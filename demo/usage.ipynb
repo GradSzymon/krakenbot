{
 "cells": [
  {
   "cell_type": "markdown",
   "metadata": {},
   "source": [
    "# Krakenbot usage example"
   ]
  },
  {
   "cell_type": "markdown",
   "metadata": {},
   "source": [
    "Run this cell in case of module import problems."
   ]
  },
  {
   "cell_type": "code",
   "execution_count": 1,
   "metadata": {},
   "outputs": [],
   "source": [
    "import sys\n",
    "# change to path with krakenbot on your local machine\n",
    "path = 'C:/Users/szgrad/repos/krakenbot/'\n",
    "sys.path.append(path)\n",
    "import krakenbot"
   ]
  },
  {
   "cell_type": "markdown",
   "metadata": {},
   "source": [
    "Import required modules."
   ]
  },
  {
   "cell_type": "code",
   "execution_count": 2,
   "metadata": {},
   "outputs": [],
   "source": [
    "from krakenbot.database.connectors.sqlite import SQLiteConnector\n",
    "from krakenbot.rest.bot import KrakenBot\n",
    "import pandas as pd"
   ]
  },
  {
   "cell_type": "markdown",
   "metadata": {},
   "source": [
    "Create the database connector and `KrakenBot` instances."
   ]
  },
  {
   "cell_type": "code",
   "execution_count": 3,
   "metadata": {},
   "outputs": [],
   "source": [
    "# Input your database name.\n",
    "db_name = 'test.db'\n",
    "connector = SQLiteConnector(db_name=db_name)\n",
    "bot = KrakenBot(db_connector=connector)\n"
   ]
  },
  {
   "cell_type": "markdown",
   "metadata": {},
   "source": [
    "Fetches the latest batch of transactions (up to 1000)."
   ]
  },
  {
   "cell_type": "code",
   "execution_count": 4,
   "metadata": {},
   "outputs": [],
   "source": [
    "# Change the batch size (up to 1000 positions) and the tradable asset pair\n",
    "size = 3\n",
    "pair = 'XBTUSD'\n",
    "recent_trades = bot.recent_trades(size=size, pair=pair)"
   ]
  },
  {
   "cell_type": "markdown",
   "metadata": {},
   "source": [
    "Prepare column names."
   ]
  },
  {
   "cell_type": "code",
   "execution_count": 5,
   "metadata": {},
   "outputs": [],
   "source": [
    "trades = recent_trades[pair]\n",
    "columns = ['\"pair name\"', 'price', 'volume', 'time', '\"buy(b)/sell(s)\"', '\"market(m)/limit(l)\"', 'miscellaneous']\n",
    "columns_names = \" ,\".join(columns)"
   ]
  },
  {
   "cell_type": "markdown",
   "metadata": {},
   "source": [
    "Create the example table."
   ]
  },
  {
   "cell_type": "code",
   "execution_count": 6,
   "metadata": {},
   "outputs": [],
   "source": [
    "# Rename the table if you want.\n",
    "table_name = 'recent_trades'\n",
    "query_table = f'create table if not exists {table_name}  (\"trade_id\" integer primary key autoincrement, {columns_names})'\n",
    "connector.execute(query_table)"
   ]
  },
  {
   "cell_type": "markdown",
   "metadata": {},
   "source": [
    "Fill the table with the recent trade data."
   ]
  },
  {
   "cell_type": "code",
   "execution_count": 7,
   "metadata": {},
   "outputs": [],
   "source": [
    "# Change the batch size (up to 1000 positions) and the tradable asset pair\n",
    "size = 3\n",
    "pair = 'XBTUSD'\n",
    "bot.update_recent_trades(table_name=table_name, pair=pair, size=size)\n"
   ]
  },
  {
   "cell_type": "markdown",
   "metadata": {},
   "source": [
    "Check the data inside the table."
   ]
  },
  {
   "cell_type": "code",
   "execution_count": 8,
   "metadata": {},
   "outputs": [
    {
     "data": {
      "text/plain": [
       "[(0, 'XBTUSD', '20157.30000', '0.06272000', 1663242681.6749911, 's', 'l', ''),\n",
       " (1, 'XBTUSD', '20157.30000', '0.00149000', 1663242682.584622, 's', 'l', ''),\n",
       " (2, 'XBTUSD', '20144.60000', '0.00010000', 1663242727.5302083, 'b', 'm', '')]"
      ]
     },
     "execution_count": 8,
     "metadata": {},
     "output_type": "execute_result"
    }
   ],
   "source": [
    "connector.execute(f'select * from {table_name}')"
   ]
  },
  {
   "cell_type": "markdown",
   "metadata": {},
   "source": [
    "Update the table with the newest data."
   ]
  },
  {
   "cell_type": "code",
   "execution_count": 9,
   "metadata": {},
   "outputs": [
    {
     "data": {
      "text/plain": [
       "[(0, 'XBTUSD', '20144.60000', '0.00010000', 1663242727.5302083, 'b', 'm', ''),\n",
       " (1, 'XBTUSD', '20144.60000', '0.02208824', 1663242727.5336277, 'b', 'l', ''),\n",
       " (2, 'XBTUSD', '20146.40000', '0.50000000', 1663242728.9173088, 'b', 'm', '')]"
      ]
     },
     "execution_count": 9,
     "metadata": {},
     "output_type": "execute_result"
    }
   ],
   "source": [
    "bot.update_recent_trades(table_name=table_name, pair=pair, size=size)\n",
    "connector.execute(f'select * from {table_name}')"
   ]
  },
  {
   "cell_type": "markdown",
   "metadata": {},
   "source": [
    "Repeat this action every 20 seconds for a minute and save the log info into the log file."
   ]
  },
  {
   "cell_type": "code",
   "execution_count": null,
   "metadata": {},
   "outputs": [
    {
     "name": "stderr",
     "output_type": "stream",
     "text": [
      "15:03:40,118 urllib3.connectionpool DEBUG Starting new HTTPS connection (1): api.kraken.com:443\n",
      "15:03:40,459 urllib3.connectionpool DEBUG https://api.kraken.com:443 \"GET /0/public/Trades?pair=XBTUSD HTTP/1.1\" 200 None\n",
      "15:03:40,500 krakenbot.rest.bot INFO Updated row: [(0, 'XBTUSD', '20144.60000', '0.00010000', 1663242727.5302083, 'b', 'm', '')]\n",
      "15:03:40,503 krakenbot.rest.bot INFO Updated row: [(1, 'XBTUSD', '20144.60000', '0.02208824', 1663242727.5336277, 'b', 'l', '')]\n",
      "15:03:40,506 krakenbot.rest.bot INFO Updated row: [(2, 'XBTUSD', '20146.40000', '0.50000000', 1663242728.9173088, 'b', 'm', '')]\n",
      "15:03:40,507 krakenbot.rest.bot INFO The action update_recent_trades executed on date 2022-09-15 15:03:40.507454\n",
      "15:04:00,517 urllib3.connectionpool DEBUG Starting new HTTPS connection (1): api.kraken.com:443\n",
      "15:04:00,848 urllib3.connectionpool DEBUG https://api.kraken.com:443 \"GET /0/public/Trades?pair=XBTUSD HTTP/1.1\" 200 None\n",
      "15:04:00,896 krakenbot.rest.bot INFO Updated row: [(0, 'XBTUSD', '20144.60000', '0.02208824', 1663242727.5336277, 'b', 'l', '')]\n",
      "15:04:00,905 krakenbot.rest.bot INFO Updated row: [(1, 'XBTUSD', '20146.40000', '0.50000000', 1663242728.9173088, 'b', 'm', '')]\n",
      "15:04:00,917 krakenbot.rest.bot INFO Updated row: [(2, 'XBTUSD', '20143.30000', '0.00013997', 1663242730.3517597, 's', 'l', '')]\n",
      "15:04:00,917 krakenbot.rest.bot INFO The action update_recent_trades executed on date 2022-09-15 15:04:00.917956\n",
      "15:04:20,947 urllib3.connectionpool DEBUG Starting new HTTPS connection (1): api.kraken.com:443\n",
      "15:04:21,277 urllib3.connectionpool DEBUG https://api.kraken.com:443 \"GET /0/public/Trades?pair=XBTUSD HTTP/1.1\" 200 None\n",
      "15:04:21,322 krakenbot.rest.bot INFO Updated row: [(0, 'XBTUSD', '20151.20000', '0.00716134', 1663242765.7147331, 'b', 'm', '')]\n",
      "15:04:21,332 krakenbot.rest.bot INFO Updated row: [(1, 'XBTUSD', '20151.10000', '0.00446611', 1663242770.6794298, 'b', 'l', '')]\n",
      "15:04:21,344 krakenbot.rest.bot INFO Updated row: [(2, 'XBTUSD', '20151.20000', '0.00380413', 1663242770.6811762, 'b', 'l', '')]\n",
      "15:04:21,344 krakenbot.rest.bot INFO The action update_recent_trades executed on date 2022-09-15 15:04:21.344922\n",
      "15:04:41,358 krakenbot.rest.bot INFO The action update_recent_trades has been repeated every 20.0 seconds for overall 60.0 seconds.\n"
     ]
    }
   ],
   "source": [
    "import logging\n",
    "logging.basicConfig(format='%(asctime)s,%(msecs)d %(name)s %(levelname)s %(message)s',\n",
    "                    datefmt='%H:%M:%S',\n",
    "                    level=logging.DEBUG)\n",
    "bot.repeat_action(action_name='update_recent_trades', duration=60, interval=20, table_name=table_name, size=size, pair=pair)"
   ]
  },
  {
   "cell_type": "markdown",
   "metadata": {},
   "source": [
    "Check our table changes."
   ]
  },
  {
   "cell_type": "code",
   "execution_count": 11,
   "metadata": {},
   "outputs": [
    {
     "data": {
      "text/plain": [
       "[(0, 'XBTUSD', '20151.20000', '0.00716134', 1663242765.7147331, 'b', 'm', ''),\n",
       " (1, 'XBTUSD', '20151.10000', '0.00446611', 1663242770.6794298, 'b', 'l', ''),\n",
       " (2, 'XBTUSD', '20151.20000', '0.00380413', 1663242770.6811762, 'b', 'l', '')]"
      ]
     },
     "execution_count": 11,
     "metadata": {},
     "output_type": "execute_result"
    }
   ],
   "source": [
    "select_recent_trades = connector.execute(f'select * from {table_name}')\n",
    "select_recent_trades"
   ]
  }
 ],
 "metadata": {
  "kernelspec": {
   "display_name": "Python 3.8.5 ('kraken')",
   "language": "python",
   "name": "python3"
  },
  "language_info": {
   "codemirror_mode": {
    "name": "ipython",
    "version": 3
   },
   "file_extension": ".py",
   "mimetype": "text/x-python",
   "name": "python",
   "nbconvert_exporter": "python",
   "pygments_lexer": "ipython3",
   "version": "3.8.13"
  },
  "orig_nbformat": 4,
  "vscode": {
   "interpreter": {
    "hash": "fada55241263cbad5bfdd7d52b541dc820d9c112e09119cea0c1cbb8bdb21ffb"
   }
  }
 },
 "nbformat": 4,
 "nbformat_minor": 2
}
