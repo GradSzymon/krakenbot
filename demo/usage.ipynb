{
 "cells": [
  {
   "cell_type": "markdown",
   "metadata": {},
   "source": [
    "# Krakenbot usage example"
   ]
  },
  {
   "cell_type": "markdown",
   "metadata": {},
   "source": [
    "Run this cell in case of module import problems."
   ]
  },
  {
   "cell_type": "code",
   "execution_count": 58,
   "metadata": {},
   "outputs": [],
   "source": [
    "import sys\n",
    "sys.path.append('C:/Users/szgrad/repos/krakenbot/')\n",
    "import krakenbot"
   ]
  },
  {
   "cell_type": "markdown",
   "metadata": {},
   "source": [
    "Import required modules."
   ]
  },
  {
   "cell_type": "code",
   "execution_count": 59,
   "metadata": {},
   "outputs": [],
   "source": [
    "import krakenbot.rest.bot as kraken\n",
    "import pandas as pd"
   ]
  },
  {
   "cell_type": "markdown",
   "metadata": {},
   "source": [
    "Create the `KrakenBot` instance."
   ]
  },
  {
   "cell_type": "code",
   "execution_count": 60,
   "metadata": {},
   "outputs": [],
   "source": [
    "# If you are using a private api, fill in api_key and api_sec with the appropriate information.\n",
    "bot = kraken.KrakenBot(api_key=None, api_sec=None)\n"
   ]
  },
  {
   "cell_type": "markdown",
   "metadata": {},
   "source": [
    "Fetches the latest batch of transactions (up to 1000)."
   ]
  },
  {
   "cell_type": "code",
   "execution_count": 61,
   "metadata": {},
   "outputs": [
    {
     "data": {
      "text/html": [
       "<div>\n",
       "<style scoped>\n",
       "    .dataframe tbody tr th:only-of-type {\n",
       "        vertical-align: middle;\n",
       "    }\n",
       "\n",
       "    .dataframe tbody tr th {\n",
       "        vertical-align: top;\n",
       "    }\n",
       "\n",
       "    .dataframe thead th {\n",
       "        text-align: right;\n",
       "    }\n",
       "</style>\n",
       "<table border=\"1\" class=\"dataframe\">\n",
       "  <thead>\n",
       "    <tr style=\"text-align: right;\">\n",
       "      <th></th>\n",
       "      <th>price</th>\n",
       "      <th>volume</th>\n",
       "      <th>time</th>\n",
       "      <th>buy(b)/sell(s)</th>\n",
       "      <th>market(m)/limit(l)</th>\n",
       "      <th>miscellaneous</th>\n",
       "    </tr>\n",
       "  </thead>\n",
       "  <tbody>\n",
       "    <tr>\n",
       "      <th>0</th>\n",
       "      <td>22068.50000</td>\n",
       "      <td>0.09429672</td>\n",
       "      <td>1.662998e+09</td>\n",
       "      <td>s</td>\n",
       "      <td>m</td>\n",
       "      <td></td>\n",
       "    </tr>\n",
       "    <tr>\n",
       "      <th>1</th>\n",
       "      <td>22068.40000</td>\n",
       "      <td>0.09451145</td>\n",
       "      <td>1.662998e+09</td>\n",
       "      <td>s</td>\n",
       "      <td>m</td>\n",
       "      <td></td>\n",
       "    </tr>\n",
       "    <tr>\n",
       "      <th>2</th>\n",
       "      <td>22068.30000</td>\n",
       "      <td>0.13000000</td>\n",
       "      <td>1.662998e+09</td>\n",
       "      <td>s</td>\n",
       "      <td>m</td>\n",
       "      <td></td>\n",
       "    </tr>\n",
       "    <tr>\n",
       "      <th>3</th>\n",
       "      <td>22068.30000</td>\n",
       "      <td>0.60754913</td>\n",
       "      <td>1.662998e+09</td>\n",
       "      <td>s</td>\n",
       "      <td>m</td>\n",
       "      <td></td>\n",
       "    </tr>\n",
       "    <tr>\n",
       "      <th>4</th>\n",
       "      <td>22068.20000</td>\n",
       "      <td>2.22038247</td>\n",
       "      <td>1.662998e+09</td>\n",
       "      <td>s</td>\n",
       "      <td>m</td>\n",
       "      <td></td>\n",
       "    </tr>\n",
       "    <tr>\n",
       "      <th>5</th>\n",
       "      <td>22067.90000</td>\n",
       "      <td>1.79300000</td>\n",
       "      <td>1.662998e+09</td>\n",
       "      <td>s</td>\n",
       "      <td>m</td>\n",
       "      <td></td>\n",
       "    </tr>\n",
       "    <tr>\n",
       "      <th>6</th>\n",
       "      <td>22067.80000</td>\n",
       "      <td>0.25000000</td>\n",
       "      <td>1.662998e+09</td>\n",
       "      <td>s</td>\n",
       "      <td>m</td>\n",
       "      <td></td>\n",
       "    </tr>\n",
       "    <tr>\n",
       "      <th>7</th>\n",
       "      <td>22067.10000</td>\n",
       "      <td>0.10347395</td>\n",
       "      <td>1.662998e+09</td>\n",
       "      <td>s</td>\n",
       "      <td>m</td>\n",
       "      <td></td>\n",
       "    </tr>\n",
       "    <tr>\n",
       "      <th>8</th>\n",
       "      <td>22066.00000</td>\n",
       "      <td>0.13000000</td>\n",
       "      <td>1.662998e+09</td>\n",
       "      <td>s</td>\n",
       "      <td>m</td>\n",
       "      <td></td>\n",
       "    </tr>\n",
       "    <tr>\n",
       "      <th>9</th>\n",
       "      <td>22065.50000</td>\n",
       "      <td>4.26002851</td>\n",
       "      <td>1.662998e+09</td>\n",
       "      <td>s</td>\n",
       "      <td>m</td>\n",
       "      <td></td>\n",
       "    </tr>\n",
       "  </tbody>\n",
       "</table>\n",
       "</div>"
      ],
      "text/plain": [
       "         price      volume          time buy(b)/sell(s) market(m)/limit(l)  \\\n",
       "0  22068.50000  0.09429672  1.662998e+09              s                  m   \n",
       "1  22068.40000  0.09451145  1.662998e+09              s                  m   \n",
       "2  22068.30000  0.13000000  1.662998e+09              s                  m   \n",
       "3  22068.30000  0.60754913  1.662998e+09              s                  m   \n",
       "4  22068.20000  2.22038247  1.662998e+09              s                  m   \n",
       "5  22067.90000  1.79300000  1.662998e+09              s                  m   \n",
       "6  22067.80000  0.25000000  1.662998e+09              s                  m   \n",
       "7  22067.10000  0.10347395  1.662998e+09              s                  m   \n",
       "8  22066.00000  0.13000000  1.662998e+09              s                  m   \n",
       "9  22065.50000  4.26002851  1.662998e+09              s                  m   \n",
       "\n",
       "  miscellaneous  \n",
       "0                \n",
       "1                \n",
       "2                \n",
       "3                \n",
       "4                \n",
       "5                \n",
       "6                \n",
       "7                \n",
       "8                \n",
       "9                "
      ]
     },
     "execution_count": 61,
     "metadata": {},
     "output_type": "execute_result"
    }
   ],
   "source": [
    "# Change the batch size (up to 1000 positions)\n",
    "size = 10\n",
    "recent_trades = bot.recent_trades(size=size)\n",
    "\n",
    "# Check if the length of recent_trades list is equal to the batch size\n",
    "assert len(recent_trades) == size\n",
    "df = pd.DataFrame (recent_trades, columns = ['price', 'volume', 'time', 'buy(b)/sell(s)', 'market(m)/limit(l)', 'miscellaneous'])\n",
    "df"
   ]
  },
  {
   "cell_type": "code",
   "execution_count": null,
   "metadata": {},
   "outputs": [],
   "source": [
    "import sqlite3\n",
    "\n",
    "conn = sqlite3.connect('test.ss')"
   ]
  }
 ],
 "metadata": {
  "kernelspec": {
   "display_name": "Python 3.8.5 ('kraken')",
   "language": "python",
   "name": "python3"
  },
  "language_info": {
   "codemirror_mode": {
    "name": "ipython",
    "version": 3
   },
   "file_extension": ".py",
   "mimetype": "text/x-python",
   "name": "python",
   "nbconvert_exporter": "python",
   "pygments_lexer": "ipython3",
   "version": "3.8.13"
  },
  "orig_nbformat": 4,
  "vscode": {
   "interpreter": {
    "hash": "fada55241263cbad5bfdd7d52b541dc820d9c112e09119cea0c1cbb8bdb21ffb"
   }
  }
 },
 "nbformat": 4,
 "nbformat_minor": 2
}
