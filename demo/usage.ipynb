{
 "cells": [
  {
   "cell_type": "markdown",
   "metadata": {},
   "source": [
    "# Krakenbot usage example"
   ]
  },
  {
   "cell_type": "markdown",
   "metadata": {},
   "source": [
    "Run this cell in case of module import problems."
   ]
  },
  {
   "cell_type": "code",
   "execution_count": 2,
   "metadata": {},
   "outputs": [
    {
     "name": "stdout",
     "output_type": "stream",
     "text": [
      "None\n"
     ]
    },
    {
     "ename": "ModuleNotFoundError",
     "evalue": "No module named 'krakenbot'",
     "output_type": "error",
     "traceback": [
      "\u001b[1;31m---------------------------------------------------------------------------\u001b[0m",
      "\u001b[1;31mModuleNotFoundError\u001b[0m                       Traceback (most recent call last)",
      "\u001b[1;32mc:\\Users\\szgrad\\repos\\krakenbot\\demo\\usage.ipynb Cell 3\u001b[0m in \u001b[0;36m<cell line: 6>\u001b[1;34m()\u001b[0m\n\u001b[0;32m      <a href='vscode-notebook-cell:/c%3A/Users/szgrad/repos/krakenbot/demo/usage.ipynb#W2sZmlsZQ%3D%3D?line=3'>4</a>\u001b[0m \u001b[39mprint\u001b[39m(path)\n\u001b[0;32m      <a href='vscode-notebook-cell:/c%3A/Users/szgrad/repos/krakenbot/demo/usage.ipynb#W2sZmlsZQ%3D%3D?line=4'>5</a>\u001b[0m sys\u001b[39m.\u001b[39mpath\u001b[39m.\u001b[39mappend(path)\n\u001b[1;32m----> <a href='vscode-notebook-cell:/c%3A/Users/szgrad/repos/krakenbot/demo/usage.ipynb#W2sZmlsZQ%3D%3D?line=5'>6</a>\u001b[0m \u001b[39mimport\u001b[39;00m \u001b[39mkrakenbot\u001b[39;00m\n",
      "\u001b[1;31mModuleNotFoundError\u001b[0m: No module named 'krakenbot'"
     ]
    }
   ],
   "source": [
    "import sys\n",
    "import os\n",
    "path = os.getenv('KRAKENBOTPATH')\n",
    "sys.path.append(path)\n",
    "import krakenbot"
   ]
  },
  {
   "cell_type": "markdown",
   "metadata": {},
   "source": [
    "Import required modules."
   ]
  },
  {
   "cell_type": "code",
   "execution_count": 1,
   "metadata": {},
   "outputs": [
    {
     "ename": "ModuleNotFoundError",
     "evalue": "No module named 'krakenbot'",
     "output_type": "error",
     "traceback": [
      "\u001b[1;31m---------------------------------------------------------------------------\u001b[0m",
      "\u001b[1;31mModuleNotFoundError\u001b[0m                       Traceback (most recent call last)",
      "\u001b[1;32mc:\\Users\\szgrad\\repos\\krakenbot\\demo\\usage.ipynb Cell 5\u001b[0m in \u001b[0;36m<cell line: 1>\u001b[1;34m()\u001b[0m\n\u001b[1;32m----> <a href='vscode-notebook-cell:/c%3A/Users/szgrad/repos/krakenbot/demo/usage.ipynb#W4sZmlsZQ%3D%3D?line=0'>1</a>\u001b[0m \u001b[39mfrom\u001b[39;00m \u001b[39mkrakenbot\u001b[39;00m\u001b[39m.\u001b[39;00m\u001b[39mdatabase\u001b[39;00m\u001b[39m.\u001b[39;00m\u001b[39mconnectors\u001b[39;00m\u001b[39m.\u001b[39;00m\u001b[39msqlite\u001b[39;00m \u001b[39mimport\u001b[39;00m SQLiteConnector\n\u001b[0;32m      <a href='vscode-notebook-cell:/c%3A/Users/szgrad/repos/krakenbot/demo/usage.ipynb#W4sZmlsZQ%3D%3D?line=1'>2</a>\u001b[0m \u001b[39mfrom\u001b[39;00m \u001b[39mkrakenbot\u001b[39;00m\u001b[39m.\u001b[39;00m\u001b[39mrest\u001b[39;00m\u001b[39m.\u001b[39;00m\u001b[39mbot\u001b[39;00m \u001b[39mimport\u001b[39;00m KrakenBot\n\u001b[0;32m      <a href='vscode-notebook-cell:/c%3A/Users/szgrad/repos/krakenbot/demo/usage.ipynb#W4sZmlsZQ%3D%3D?line=2'>3</a>\u001b[0m \u001b[39mimport\u001b[39;00m \u001b[39mpandas\u001b[39;00m \u001b[39mas\u001b[39;00m \u001b[39mpd\u001b[39;00m\n",
      "\u001b[1;31mModuleNotFoundError\u001b[0m: No module named 'krakenbot'"
     ]
    }
   ],
   "source": [
    "from krakenbot.database.connectors.sqlite import SQLiteConnector\n",
    "from krakenbot.rest.bot import KrakenBot"
   ]
  },
  {
   "cell_type": "markdown",
   "metadata": {},
   "source": [
    "Create the database connector and `KrakenBot` instances."
   ]
  },
  {
   "cell_type": "code",
   "execution_count": 3,
   "metadata": {},
   "outputs": [],
   "source": [
    "# Input your database name.\n",
    "db_name = 'test.db'\n",
    "connector = SQLiteConnector(db_name=db_name)\n",
    "bot = KrakenBot(db_connector=connector)\n"
   ]
  },
  {
   "cell_type": "markdown",
   "metadata": {},
   "source": [
    "Fetches the latest batch of transactions (up to 1000)."
   ]
  },
  {
   "cell_type": "code",
   "execution_count": 4,
   "metadata": {},
   "outputs": [],
   "source": [
    "# Change the batch size (up to 1000 positions) and the tradable asset pair\n",
    "size = 3\n",
    "pair = 'XBTUSD'\n",
    "recent_trades = bot.recent_trades(size=size, pair=pair)"
   ]
  },
  {
   "cell_type": "markdown",
   "metadata": {},
   "source": [
    "Prepare column names."
   ]
  },
  {
   "cell_type": "code",
   "execution_count": 5,
   "metadata": {},
   "outputs": [],
   "source": [
    "trades = recent_trades[pair]\n",
    "columns = ['\"pair name\"', 'price', 'volume', 'time', '\"buy(b)/sell(s)\"', '\"market(m)/limit(l)\"', 'miscellaneous']\n",
    "columns_names = \" ,\".join(columns)"
   ]
  },
  {
   "cell_type": "markdown",
   "metadata": {},
   "source": [
    "Create the example table."
   ]
  },
  {
   "cell_type": "code",
   "execution_count": 6,
   "metadata": {},
   "outputs": [],
   "source": [
    "# Rename the table if you want.\n",
    "table_name = 'recent_trades'\n",
    "query_table = f'create table if not exists {table_name}  (\"trade_id\" integer primary key autoincrement, {columns_names})'\n",
    "connector.execute(query_table)"
   ]
  },
  {
   "cell_type": "markdown",
   "metadata": {},
   "source": [
    "Fill the table with the recent trade data."
   ]
  },
  {
   "cell_type": "code",
   "execution_count": 7,
   "metadata": {},
   "outputs": [],
   "source": [
    "# Change the batch size (up to 1000 positions) and the tradable asset pair\n",
    "size = 3\n",
    "pair = 'XBTUSD'\n",
    "bot.update_recent_trades(table_name=table_name, pair=pair, size=size)\n"
   ]
  },
  {
   "cell_type": "markdown",
   "metadata": {},
   "source": [
    "Check the data inside the table."
   ]
  },
  {
   "cell_type": "code",
   "execution_count": 8,
   "metadata": {},
   "outputs": [
    {
     "data": {
      "text/plain": [
       "[(0, 'XBTUSD', '20025.50000', '0.00050049', 1663248661.2781415, 'b', 'l', ''),\n",
       " (1, 'XBTUSD', '20025.50000', '0.00675000', 1663248661.885247, 'b', 'l', ''),\n",
       " (2, 'XBTUSD', '20023.00000', '0.00011206', 1663248665.6921606, 'b', 'l', '')]"
      ]
     },
     "execution_count": 8,
     "metadata": {},
     "output_type": "execute_result"
    }
   ],
   "source": [
    "connector.execute(f'select * from {table_name}')"
   ]
  },
  {
   "cell_type": "markdown",
   "metadata": {},
   "source": [
    "Update the table with the newest data."
   ]
  },
  {
   "cell_type": "code",
   "execution_count": 9,
   "metadata": {},
   "outputs": [
    {
     "data": {
      "text/plain": [
       "[(0, 'XBTUSD', '20023.00000', '0.00011206', 1663248665.6921606, 'b', 'l', ''),\n",
       " (1, 'XBTUSD', '20023.70000', '0.00194559', 1663248667.3217237, 'b', 'm', ''),\n",
       " (2, 'XBTUSD', '20022.40000', '0.01989883', 1663248672.5856986, 'b', 'm', '')]"
      ]
     },
     "execution_count": 9,
     "metadata": {},
     "output_type": "execute_result"
    }
   ],
   "source": [
    "bot.update_recent_trades(table_name=table_name, pair=pair, size=size)\n",
    "connector.execute(f'select * from {table_name}')"
   ]
  },
  {
   "cell_type": "markdown",
   "metadata": {},
   "source": [
    "Repeat this action every 20 seconds for a minute and save the log info into the log file."
   ]
  },
  {
   "cell_type": "code",
   "execution_count": null,
   "metadata": {},
   "outputs": [
    {
     "name": "stderr",
     "output_type": "stream",
     "text": [
      "16:19:21,652 urllib3.connectionpool DEBUG Starting new HTTPS connection (1): api.kraken.com:443\n",
      "16:19:22,56 urllib3.connectionpool DEBUG https://api.kraken.com:443 \"GET /0/public/Trades?pair=XBTUSD HTTP/1.1\" 200 None\n",
      "16:19:22,105 krakenbot.rest.bot INFO Updated row: [(0, 'XBTUSD', '20028.40000', '0.00062010', 1663248675.3773704, 'b', 'l', '')]\n",
      "16:19:22,116 krakenbot.rest.bot INFO Updated row: [(1, 'XBTUSD', '20029.70000', '0.00552315', 1663248675.3783123, 'b', 'l', '')]\n",
      "16:19:22,128 krakenbot.rest.bot INFO Updated row: [(2, 'XBTUSD', '20029.60000', '0.01300400', 1663248677.563743, 's', 'm', '')]\n",
      "16:19:22,129 krakenbot.rest.bot INFO The action update_recent_trades executed on date 2022-09-15 16:19:22.129356\n",
      "16:19:23,970 krakenbot.rest.bot INFO The action update_recent_trades has been repeated every 20.0 seconds for overall 60.0 seconds.\n",
      "16:19:42,140 urllib3.connectionpool DEBUG Starting new HTTPS connection (1): api.kraken.com:443\n",
      "16:19:42,841 urllib3.connectionpool DEBUG https://api.kraken.com:443 \"GET /0/public/Trades?pair=XBTUSD HTTP/1.1\" 200 None\n",
      "16:19:42,969 krakenbot.rest.bot INFO Updated row: [(0, 'XBTUSD', '20029.70000', '0.00552315', 1663248675.3783123, 'b', 'l', '')]\n",
      "16:19:42,980 krakenbot.rest.bot INFO Updated row: [(1, 'XBTUSD', '20029.60000', '0.01300400', 1663248677.563743, 's', 'm', '')]\n",
      "16:19:42,990 krakenbot.rest.bot INFO Updated row: [(2, 'XBTUSD', '20023.70000', '0.00229000', 1663248681.388838, 's', 'l', '')]\n",
      "16:19:42,991 krakenbot.rest.bot INFO The action update_recent_trades executed on date 2022-09-15 16:19:42.990449\n",
      "16:20:03,14 urllib3.connectionpool DEBUG Starting new HTTPS connection (1): api.kraken.com:443\n",
      "16:20:03,423 urllib3.connectionpool DEBUG https://api.kraken.com:443 \"GET /0/public/Trades?pair=XBTUSD HTTP/1.1\" 200 None\n",
      "16:20:03,480 krakenbot.rest.bot INFO Updated row: [(0, 'XBTUSD', '20016.70000', '0.02632530', 1663248685.488025, 'b', 'm', '')]\n",
      "16:20:03,492 krakenbot.rest.bot INFO Updated row: [(1, 'XBTUSD', '20018.00000', '0.18389019', 1663248687.5975986, 'b', 'm', '')]\n",
      "16:20:03,502 krakenbot.rest.bot INFO Updated row: [(2, 'XBTUSD', '20020.50000', '0.00017459', 1663248692.981432, 's', 'l', '')]\n",
      "16:20:03,503 krakenbot.rest.bot INFO The action update_recent_trades executed on date 2022-09-15 16:20:03.503818\n",
      "16:20:23,510 krakenbot.rest.bot INFO The action update_recent_trades has been repeated every 20.0 seconds for overall 60.0 seconds.\n"
     ]
    }
   ],
   "source": [
    "import logging\n",
    "logging.basicConfig(format='%(asctime)s,%(msecs)d %(name)s %(levelname)s %(message)s',\n",
    "                    datefmt='%H:%M:%S',\n",
    "                    level=logging.DEBUG)\n",
    "bot.repeat_action(action_name='update_recent_trades', duration=60, interval=20, table_name=table_name, size=size, pair=pair)"
   ]
  },
  {
   "cell_type": "markdown",
   "metadata": {},
   "source": [
    "Check our table changes."
   ]
  },
  {
   "cell_type": "code",
   "execution_count": 11,
   "metadata": {},
   "outputs": [
    {
     "data": {
      "text/plain": [
       "[(0, 'XBTUSD', '20023.00000', '0.00011206', 1663248665.6921606, 'b', 'l', ''),\n",
       " (1, 'XBTUSD', '20023.70000', '0.00194559', 1663248667.3217237, 'b', 'm', ''),\n",
       " (2, 'XBTUSD', '20022.40000', '0.01989883', 1663248672.5856986, 'b', 'm', '')]"
      ]
     },
     "execution_count": 11,
     "metadata": {},
     "output_type": "execute_result"
    },
    {
     "name": "stderr",
     "output_type": "stream",
     "text": [
      "16:18:43,58 urllib3.connectionpool DEBUG Starting new HTTPS connection (1): api.kraken.com:443\n",
      "16:18:43,497 urllib3.connectionpool DEBUG https://api.kraken.com:443 \"GET /0/public/Trades?pair=XBTUSD HTTP/1.1\" 200 None\n",
      "16:18:43,551 krakenbot.rest.bot INFO Updated row: [(0, 'XBTUSD', '20022.50000', '0.12468381', 1663248672.5867398, 'b', 'm', '')]\n",
      "16:18:43,564 krakenbot.rest.bot INFO Updated row: [(1, 'XBTUSD', '20022.30000', '0.00424243', 1663248672.6808083, 'b', 'l', '')]\n",
      "16:18:43,575 krakenbot.rest.bot INFO Updated row: [(2, 'XBTUSD', '20023.70000', '0.01838757', 1663248672.681862, 'b', 'l', '')]\n",
      "16:18:43,576 krakenbot.rest.bot INFO The action update_recent_trades executed on date 2022-09-15 16:18:43.576068\n",
      "16:19:03,586 urllib3.connectionpool DEBUG Starting new HTTPS connection (1): api.kraken.com:443\n",
      "16:19:03,904 urllib3.connectionpool DEBUG https://api.kraken.com:443 \"GET /0/public/Trades?pair=XBTUSD HTTP/1.1\" 200 None\n",
      "16:19:03,945 krakenbot.rest.bot INFO Updated row: [(0, 'XBTUSD', '20022.50000', '0.12468381', 1663248672.5867398, 'b', 'm', '')]\n",
      "16:19:03,948 krakenbot.rest.bot INFO Updated row: [(1, 'XBTUSD', '20022.30000', '0.00424243', 1663248672.6808083, 'b', 'l', '')]\n",
      "16:19:03,951 krakenbot.rest.bot INFO Updated row: [(2, 'XBTUSD', '20023.70000', '0.01838757', 1663248672.681862, 'b', 'l', '')]\n",
      "16:19:03,952 krakenbot.rest.bot INFO The action update_recent_trades executed on date 2022-09-15 16:19:03.952195\n"
     ]
    }
   ],
   "source": [
    "select_recent_trades = connector.execute(f'select * from {table_name}')\n",
    "select_recent_trades"
   ]
  }
 ],
 "metadata": {
  "kernelspec": {
   "display_name": "Python 3.8.5 ('kraken')",
   "language": "python",
   "name": "python3"
  },
  "language_info": {
   "codemirror_mode": {
    "name": "ipython",
    "version": 3
   },
   "file_extension": ".py",
   "mimetype": "text/x-python",
   "name": "python",
   "nbconvert_exporter": "python",
   "pygments_lexer": "ipython3",
   "version": "3.8.13"
  },
  "orig_nbformat": 4,
  "vscode": {
   "interpreter": {
    "hash": "fada55241263cbad5bfdd7d52b541dc820d9c112e09119cea0c1cbb8bdb21ffb"
   }
  }
 },
 "nbformat": 4,
 "nbformat_minor": 2
}
